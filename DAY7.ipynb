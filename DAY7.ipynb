{
 "cells": [
  {
   "cell_type": "code",
   "execution_count": null,
   "id": "74631328-bfba-4180-ae68-bf037c84528c",
   "metadata": {},
   "outputs": [],
   "source": [
    "# TUPLE"
   ]
  },
  {
   "cell_type": "code",
   "execution_count": 9,
   "id": "ac365af4-2c37-4932-a7b6-10127e75484e",
   "metadata": {},
   "outputs": [],
   "source": [
    "var=(\"ayush\",\"ankur\",63,87,300,270,6+2j,True,False)"
   ]
  },
  {
   "cell_type": "code",
   "execution_count": 2,
   "id": "3a0b9a07-e718-4c28-b2a3-ccbe784f7105",
   "metadata": {},
   "outputs": [
    {
     "data": {
      "text/plain": [
       "('ayush', 'ankur', 63, 87, 300, 270, (6+2j), True, False)"
      ]
     },
     "execution_count": 2,
     "metadata": {},
     "output_type": "execute_result"
    }
   ],
   "source": [
    "var"
   ]
  },
  {
   "cell_type": "code",
   "execution_count": 5,
   "id": "b5b42f2e-9b26-471e-ac5a-0bcea4232123",
   "metadata": {},
   "outputs": [
    {
     "name": "stdout",
     "output_type": "stream",
     "text": [
      "<class 'tuple'>\n"
     ]
    }
   ],
   "source": [
    "print(type(var))"
   ]
  },
  {
   "cell_type": "code",
   "execution_count": 6,
   "id": "57fd38c8-72c5-4c4b-941f-22d77e1a22e7",
   "metadata": {},
   "outputs": [
    {
     "data": {
      "text/plain": [
       "'ayush'"
      ]
     },
     "execution_count": 6,
     "metadata": {},
     "output_type": "execute_result"
    }
   ],
   "source": [
    " var[0]"
   ]
  },
  {
   "cell_type": "code",
   "execution_count": 7,
   "id": "1287752d-e403-420a-9bd4-6a09319bc252",
   "metadata": {},
   "outputs": [
    {
     "data": {
      "text/plain": [
       "1"
      ]
     },
     "execution_count": 7,
     "metadata": {},
     "output_type": "execute_result"
    }
   ],
   "source": [
    "var.count(63)"
   ]
  },
  {
   "cell_type": "code",
   "execution_count": 10,
   "id": "3e27fe63-7e85-48ed-8842-568c72693d97",
   "metadata": {},
   "outputs": [
    {
     "data": {
      "text/plain": [
       "5"
      ]
     },
     "execution_count": 10,
     "metadata": {},
     "output_type": "execute_result"
    }
   ],
   "source": [
    "var.index(270)"
   ]
  },
  {
   "cell_type": "code",
   "execution_count": 40,
   "id": "db0bd609-ee65-4d1d-b82f-c23cc689fbe5",
   "metadata": {},
   "outputs": [],
   "source": [
    "# SET"
   ]
  },
  {
   "cell_type": "code",
   "execution_count": 41,
   "id": "1709a5d4-de08-44d5-b0f9-9cab45620931",
   "metadata": {},
   "outputs": [],
   "source": [
    "var5={}"
   ]
  },
  {
   "cell_type": "code",
   "execution_count": 42,
   "id": "fb0796d1-4dbb-4148-b26d-a855e0b031e7",
   "metadata": {},
   "outputs": [
    {
     "name": "stdout",
     "output_type": "stream",
     "text": [
      "<class 'dict'>\n"
     ]
    }
   ],
   "source": [
    "print(type(var5))"
   ]
  },
  {
   "cell_type": "code",
   "execution_count": 3,
   "id": "d7a2f710-147a-4038-8fad-30290f39076c",
   "metadata": {},
   "outputs": [],
   "source": [
    "var6={10,67,\"ayush\",\"amit\",\"abhay\",3+5j,True,False}"
   ]
  },
  {
   "cell_type": "code",
   "execution_count": 4,
   "id": "f4bdc9d8-8a25-430d-b8a1-1bb1a94caf22",
   "metadata": {},
   "outputs": [
    {
     "data": {
      "text/plain": [
       "{(3+5j), 10, 67, False, True, 'abhay', 'amit', 'ayush'}"
      ]
     },
     "execution_count": 4,
     "metadata": {},
     "output_type": "execute_result"
    }
   ],
   "source": [
    "var6"
   ]
  },
  {
   "cell_type": "code",
   "execution_count": 5,
   "id": "7fcb84b1-9f25-440e-9d2c-68bbdd3c0eff",
   "metadata": {},
   "outputs": [
    {
     "name": "stdout",
     "output_type": "stream",
     "text": [
      "<class 'set'>\n"
     ]
    }
   ],
   "source": [
    "print(type(var6))"
   ]
  },
  {
   "cell_type": "code",
   "execution_count": 6,
   "id": "35c57156-8236-46f5-906a-45b076cfddcc",
   "metadata": {},
   "outputs": [],
   "source": [
    "var6.add(\"energy\")"
   ]
  },
  {
   "cell_type": "code",
   "execution_count": 7,
   "id": "398da577-0fe2-481e-bcde-703ef11b884a",
   "metadata": {},
   "outputs": [
    {
     "name": "stdout",
     "output_type": "stream",
     "text": [
      "{False, True, 67, 10, (3+5j), 'energy', 'ayush', 'amit', 'abhay'}\n"
     ]
    }
   ],
   "source": [
    "print(var6)"
   ]
  },
  {
   "cell_type": "code",
   "execution_count": 8,
   "id": "64a69d1e-d34a-4c82-a394-ba787f7afe4d",
   "metadata": {},
   "outputs": [],
   "source": [
    "var6.update(\"pws\")"
   ]
  },
  {
   "cell_type": "code",
   "execution_count": 9,
   "id": "969934ce-3c9a-4a1e-b727-22b772241415",
   "metadata": {},
   "outputs": [
    {
     "data": {
      "text/plain": [
       "{(3+5j),\n",
       " 10,\n",
       " 67,\n",
       " False,\n",
       " True,\n",
       " 'abhay',\n",
       " 'amit',\n",
       " 'ayush',\n",
       " 'energy',\n",
       " 'p',\n",
       " 's',\n",
       " 'w'}"
      ]
     },
     "execution_count": 9,
     "metadata": {},
     "output_type": "execute_result"
    }
   ],
   "source": [
    "var6"
   ]
  },
  {
   "cell_type": "code",
   "execution_count": 10,
   "id": "7a8f096c-5f3a-4090-94ee-2a250186b0d3",
   "metadata": {},
   "outputs": [],
   "source": [
    "var6.update([\"heat\",\"fluid\",\"som\"])"
   ]
  },
  {
   "cell_type": "code",
   "execution_count": 11,
   "id": "819df963-93fb-4356-a0e4-b40b5eb0763b",
   "metadata": {},
   "outputs": [
    {
     "data": {
      "text/plain": [
       "{(3+5j),\n",
       " 10,\n",
       " 67,\n",
       " False,\n",
       " True,\n",
       " 'abhay',\n",
       " 'amit',\n",
       " 'ayush',\n",
       " 'energy',\n",
       " 'fluid',\n",
       " 'heat',\n",
       " 'p',\n",
       " 's',\n",
       " 'som',\n",
       " 'w'}"
      ]
     },
     "execution_count": 11,
     "metadata": {},
     "output_type": "execute_result"
    }
   ],
   "source": [
    "var6"
   ]
  },
  {
   "cell_type": "code",
   "execution_count": 12,
   "id": "20ddbe9d-360f-4a9e-8305-8047388237ae",
   "metadata": {},
   "outputs": [],
   "source": [
    "## update method we use when we want to insert more than one value in our variable"
   ]
  },
  {
   "cell_type": "code",
   "execution_count": 15,
   "id": "fcc0a521-46ba-45c7-a9d9-fdadfa3f0218",
   "metadata": {},
   "outputs": [
    {
     "data": {
      "text/plain": [
       "False"
      ]
     },
     "execution_count": 15,
     "metadata": {},
     "output_type": "execute_result"
    }
   ],
   "source": [
    "var6.pop()"
   ]
  },
  {
   "cell_type": "code",
   "execution_count": 16,
   "id": "2e190db0-8fb3-43f7-a3f3-5025e574852c",
   "metadata": {},
   "outputs": [
    {
     "data": {
      "text/plain": [
       "{(3+5j),\n",
       " 10,\n",
       " 67,\n",
       " True,\n",
       " 'abhay',\n",
       " 'amit',\n",
       " 'ayush',\n",
       " 'energy',\n",
       " 'fluid',\n",
       " 'heat',\n",
       " 'p',\n",
       " 's',\n",
       " 'som',\n",
       " 'w'}"
      ]
     },
     "execution_count": 16,
     "metadata": {},
     "output_type": "execute_result"
    }
   ],
   "source": [
    "var6"
   ]
  },
  {
   "cell_type": "code",
   "execution_count": 18,
   "id": "cbc4a909-a6cc-4d5c-95e4-f23d53e6d736",
   "metadata": {},
   "outputs": [
    {
     "name": "stdout",
     "output_type": "stream",
     "text": [
      "True\n"
     ]
    }
   ],
   "source": [
    "print(var6.pop())"
   ]
  },
  {
   "cell_type": "code",
   "execution_count": 19,
   "id": "01bc788f-2f27-4bf4-b1f1-1a44fde5422d",
   "metadata": {},
   "outputs": [
    {
     "data": {
      "text/plain": [
       "{(3+5j),\n",
       " 10,\n",
       " 67,\n",
       " 'abhay',\n",
       " 'amit',\n",
       " 'ayush',\n",
       " 'energy',\n",
       " 'fluid',\n",
       " 'heat',\n",
       " 'p',\n",
       " 's',\n",
       " 'som',\n",
       " 'w'}"
      ]
     },
     "execution_count": 19,
     "metadata": {},
     "output_type": "execute_result"
    }
   ],
   "source": [
    "var6"
   ]
  },
  {
   "cell_type": "code",
   "execution_count": 22,
   "id": "61db18ad-ea8d-46a4-b9bf-ab1b72cb26a5",
   "metadata": {},
   "outputs": [
    {
     "name": "stdout",
     "output_type": "stream",
     "text": [
      "None\n"
     ]
    }
   ],
   "source": [
    "print(var6.remove('abhay'))"
   ]
  },
  {
   "cell_type": "code",
   "execution_count": 23,
   "id": "8871317a-6b7e-42c1-9f8e-9b8c0afe812a",
   "metadata": {},
   "outputs": [
    {
     "data": {
      "text/plain": [
       "{(3+5j), 10, 67, 'ayush', 'energy', 'fluid', 'heat', 'p', 's', 'som', 'w'}"
      ]
     },
     "execution_count": 23,
     "metadata": {},
     "output_type": "execute_result"
    }
   ],
   "source": [
    "var6"
   ]
  },
  {
   "cell_type": "code",
   "execution_count": 24,
   "id": "ee75e040-6a35-4efa-bdf4-a3e61bf42aa6",
   "metadata": {},
   "outputs": [],
   "source": [
    "var6.clear()"
   ]
  },
  {
   "cell_type": "code",
   "execution_count": 25,
   "id": "1be95516-3938-49cf-b663-6a9c8998cd4c",
   "metadata": {},
   "outputs": [
    {
     "name": "stdout",
     "output_type": "stream",
     "text": [
      "set()\n"
     ]
    }
   ],
   "source": [
    "print(var6)"
   ]
  },
  {
   "cell_type": "code",
   "execution_count": 26,
   "id": "3a05644c-4096-4544-87f3-0c85715bbf3a",
   "metadata": {},
   "outputs": [],
   "source": [
    "## clear method remove all the items of set"
   ]
  },
  {
   "cell_type": "code",
   "execution_count": 27,
   "id": "faee6660-b7a7-4a5c-a210-7e900460a0cb",
   "metadata": {},
   "outputs": [],
   "source": [
    "var8={10,\"ankit\",56.7,True,\"ankur\",56.7}"
   ]
  },
  {
   "cell_type": "code",
   "execution_count": 28,
   "id": "3f63ffdc-0563-49ef-b261-c5cfa1f84db0",
   "metadata": {},
   "outputs": [],
   "source": [
    "var9={10,\"ankit\",56.7,True,\"ankit\",\"india\",False}"
   ]
  },
  {
   "cell_type": "code",
   "execution_count": 35,
   "id": "d5bd56a9-3944-4404-b031-7d011674397e",
   "metadata": {},
   "outputs": [
    {
     "name": "stdout",
     "output_type": "stream",
     "text": [
      "{False, True, 10, 56.7, 'ankur', 'india', 'ankit'}\n"
     ]
    }
   ],
   "source": [
    "print(var8.union(var9))   ## in place of union we can use '|.we get same result...."
   ]
  },
  {
   "cell_type": "code",
   "execution_count": 36,
   "id": "8d273336-cb1a-4a16-849c-d7c4da61b65f",
   "metadata": {},
   "outputs": [
    {
     "name": "stdout",
     "output_type": "stream",
     "text": [
      "{56.7, True, 10, 'ankit'}\n"
     ]
    }
   ],
   "source": [
    "print(var8.intersection(var9))  ## in place of intersection we can use '&' .we get same result......"
   ]
  },
  {
   "cell_type": "code",
   "execution_count": 38,
   "id": "5d16e6fe-0e28-43cd-897b-ae025aa9b3cc",
   "metadata": {},
   "outputs": [
    {
     "name": "stdout",
     "output_type": "stream",
     "text": [
      "{'ankur'}\n"
     ]
    }
   ],
   "source": [
    "print(var8.difference(var9))"
   ]
  },
  {
   "cell_type": "code",
   "execution_count": 40,
   "id": "fce93d15-d54b-495e-8633-3237b9a0a7ed",
   "metadata": {},
   "outputs": [
    {
     "name": "stdout",
     "output_type": "stream",
     "text": [
      "{False, 'india'}\n"
     ]
    }
   ],
   "source": [
    "print(var9.difference(var8))  ## in place of difference we can use '-'.we get the same result......"
   ]
  },
  {
   "cell_type": "code",
   "execution_count": 42,
   "id": "74d20c65-dfcd-4c72-953f-65882b15e1b5",
   "metadata": {},
   "outputs": [
    {
     "name": "stdout",
     "output_type": "stream",
     "text": [
      "{False, 'india', 'ankur'}\n"
     ]
    }
   ],
   "source": [
    "print(var8.symmetric_difference(var9)) ## which is not common in both .that will be result........"
   ]
  },
  {
   "cell_type": "code",
   "execution_count": null,
   "id": "e4aeffaf-5ba0-431d-99d4-dca5f992c090",
   "metadata": {},
   "outputs": [],
   "source": []
  }
 ],
 "metadata": {
  "kernelspec": {
   "display_name": "Python 3 (ipykernel)",
   "language": "python",
   "name": "python3"
  },
  "language_info": {
   "codemirror_mode": {
    "name": "ipython",
    "version": 3
   },
   "file_extension": ".py",
   "mimetype": "text/x-python",
   "name": "python",
   "nbconvert_exporter": "python",
   "pygments_lexer": "ipython3",
   "version": "3.10.8"
  }
 },
 "nbformat": 4,
 "nbformat_minor": 5
}
